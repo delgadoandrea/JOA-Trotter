{
 "cells": [
  {
   "cell_type": "code",
   "execution_count": 2,
   "metadata": {},
   "outputs": [
    {
     "name": "stderr",
     "output_type": "stream",
     "text": [
      "/Users/1zd/Library/Python/3.9/lib/python/site-packages/urllib3/__init__.py:34: NotOpenSSLWarning: urllib3 v2.0 only supports OpenSSL 1.1.1+, currently the 'ssl' module is compiled with 'LibreSSL 2.8.3'. See: https://github.com/urllib3/urllib3/issues/3020\n",
      "  warnings.warn(\n"
     ]
    }
   ],
   "source": [
    "import pennylane as qml\n",
    "import matplotlib.pyplot as plt\n",
    "import numpy as np\n",
    "import math"
   ]
  },
  {
   "cell_type": "code",
   "execution_count": 3,
   "metadata": {},
   "outputs": [],
   "source": [
    "def fact(n):\n",
    "    if n < 0:\n",
    "        raise ValueError(\"Factorial is not defined for negative numbers.\")\n",
    "    elif n == 0 or n == 1:\n",
    "        return 1\n",
    "    else:\n",
    "        result = 1\n",
    "        for i in range(2, n + 1):\n",
    "            result *= i\n",
    "        return result\n"
   ]
  },
  {
   "cell_type": "code",
   "execution_count": 4,
   "metadata": {},
   "outputs": [],
   "source": [
    "def householder(state):\n",
    "    \"\"\"Create the matrix form of a Householder transformation.\n",
    "    \n",
    "    Args:\n",
    "        state (array[complex]): A list of amplitudes representing a state.\n",
    "\n",
    "    Returns: \n",
    "        array[complex]: The matrix representation of the Householder transformation.\n",
    "    \"\"\"\n",
    "    return np.eye(state.shape[0])- 2*np.outer(state,state)"
   ]
  },
  {
   "cell_type": "code",
   "execution_count": 5,
   "metadata": {},
   "outputs": [],
   "source": [
    "k_bits = 2\n",
    "n_bits = 1\n",
    "all_bits = k_bits + n_bits\n",
    "aux = range(k_bits)\n",
    "main = range(k_bits, all_bits)\n",
    "dev = qml.device(\"default.qubit\", wires=all_bits)\n",
    "\n",
    "def PREPARE(alpha_list):\n",
    "    \"\"\"Create the PREPARE oracle as a matrix.\n",
    "    \n",
    "    Args:\n",
    "        alpha_list (array[float]): A list of coefficients.\n",
    "\n",
    "    Returns: \n",
    "        array[complex]: The matrix representation of the PREPARE routine.\n",
    "    \"\"\"\n",
    "    zero_vec = np.array([1] + [0]*(2**k_bits - 1))\n",
    "\n",
    "    alpha_list = np.sqrt(alpha_list) / np.linalg.norm(alpha_list)\n",
    "    #print(alpha_list)\n",
    "    return householder((zero_vec - alpha_list) / np.linalg.norm(zero_vec -alpha_list))\n",
    "\n"
   ]
  },
  {
   "cell_type": "code",
   "execution_count": 6,
   "metadata": {},
   "outputs": [],
   "source": [
    "def SELECT(U_list):\n",
    "    \"\"\"Implement the SELECT oracle for 2^k unitaries.\"\"\"\n",
    "    for index in range(2**k_bits):\n",
    "        ctrl_vals =  [int(i) for i in list(np.binary_repr(index, k_bits))] # Create binary representation\n",
    "        qml.ControlledQubitUnitary(U_list[index], control_wires=aux, \n",
    "                                   wires=main, control_values=ctrl_vals)\n",
    "\n",
    "def LCU(alpha_list, U_list):\n",
    "    \"\"\"Implement LCU using PREPARE and SELECT oracles for 2^k unitaries.\n",
    "    \n",
    "    Args:\n",
    "        alpha_list (list[float]): A list of coefficients.\n",
    "        U_list (list[array[complex]]): A list of unitary matrices, stored as \n",
    "        complex arrays.\n",
    "    \"\"\"\n",
    "    qml.QubitUnitary(PREPARE(alpha_list), wires=aux)\n",
    "    SELECT(U_list)\n",
    "    qml.adjoint(qml.QubitUnitary)(PREPARE(alpha_list), wires=aux)\n"
   ]
  },
  {
   "cell_type": "code",
   "execution_count": 7,
   "metadata": {},
   "outputs": [],
   "source": [
    "#U_list = [np.kron(qml.PauliX.compute_matrix(), qml.PauliX.compute_matrix()),\n",
    "#          np.kron(qml.PauliZ.compute_matrix(), qml.PauliZ.compute_matrix()),\n",
    "#          np.kron(qml.PauliX.compute_matrix(), qml.PauliZ.compute_matrix()),\n",
    "#          np.kron(qml.PauliZ.compute_matrix(), qml.PauliX.compute_matrix())]\n",
    "#alpha_list = [1, 0.5, 0.5, 1]\n",
    "\n",
    "#def generate_U_alpha(time):\n",
    "#    U_list = [np.dot(qml.RZ.compute_matrix(theta=time), np.dot(qml.RX.compute_matrix(theta=2*time), qml.RZ.compute_matrix(theta=time))),\n",
    "#          np.dot(qml.RX.compute_matrix(theta=time), np.dot(qml.RZ.compute_matrix(theta=2*time), qml.RX.compute_matrix(theta=time))),\n",
    "#          np.dot(qml.RZ.compute_matrix(theta=-2*time), qml.RX.compute_matrix(theta=-2*time)),\n",
    "#          np.dot(qml.RX.compute_matrix(theta=-2*time), qml.RZ.compute_matrix(theta=-2*time))]\n",
    "#    alpha_list = [2./3., 2./3., 1./6., 1./6. ]\n",
    "\n",
    "#    return U_list, alpha_list\n",
    "\n",
    "def generate_U_alpha(time):\n",
    "    U_list = [np.dot(qml.RZ.compute_matrix(theta=time), np.dot(qml.RX.compute_matrix(theta=2*time), qml.RZ.compute_matrix(theta=time))),\n",
    "          np.dot(qml.RX.compute_matrix(theta=time), np.dot(qml.RZ.compute_matrix(theta=2*time), qml.RX.compute_matrix(theta=time))),\n",
    "          np.dot(qml.RZ.compute_matrix(theta=-2*time), qml.RX.compute_matrix(theta=-2*time)),\n",
    "          np.dot(qml.RX.compute_matrix(theta=-2*time), qml.RZ.compute_matrix(theta=-2*time))]\n",
    "    alpha_list = [2./3., 2./3., 1./6., 1./6. ]\n",
    "\n",
    "    return U_list, alpha_list\n",
    "\n",
    "@qml.qnode(dev)\n",
    "def my_circuit(time):\n",
    "    \"\"\"Apply U_list to the state |00> using LCU.\"\"\"\n",
    "    #for _ in main:\n",
    "\t#    qml.PauliX(wires=_)\n",
    "    U_list, alpha_list = generate_U_alpha(time)\n",
    "    LCU(alpha_list, U_list)\n",
    "    return qml.state()\n",
    "\n",
    "#print(\"The amplitudes on the main register are proportional to\", my_circuit()[:4], \".\")\n"
   ]
  },
  {
   "cell_type": "code",
   "execution_count": 8,
   "metadata": {},
   "outputs": [],
   "source": [
    "dev = qml.device(\"default.qubit\", wires=1)\n",
    "\n",
    "def exact_result_XandZ(alpha, beta, time):\n",
    "    \"\"\"Exact circuit for evolving a qubit with H = alpha Z + beta X.\n",
    "    \n",
    "    Args:\n",
    "        alpha (float): The coefficient of Z in the Hamiltonian.\n",
    "        beta (float): The coefficient of X in the Hamiltonian.\n",
    "        time (float): The time we evolve the state for.\n",
    "        \n",
    "    Returns: \n",
    "        array[complex]: The exact state after evolution.\n",
    "    \"\"\"\n",
    "    root = np.sqrt(alpha**2 + beta**2)\n",
    "    c_0 = np.cos(root*time) - (alpha/root)*np.sin(root*time)*1.j\n",
    "    c_1 = -(beta/root)*np.sin(root*time)*1.j\n",
    "    return np.array([c_0, c_1])"
   ]
  },
  {
   "cell_type": "code",
   "execution_count": 9,
   "metadata": {},
   "outputs": [
    {
     "data": {
      "text/plain": [
       "array([ 0.99001666-0.099667j, -0.        -0.099667j])"
      ]
     },
     "execution_count": 9,
     "metadata": {},
     "output_type": "execute_result"
    }
   ],
   "source": [
    "exact_result_XandZ(1,1,0.1)"
   ]
  },
  {
   "cell_type": "code",
   "execution_count": 10,
   "metadata": {},
   "outputs": [
    {
     "data": {
      "text/plain": [
       "tensor([9.90033289e-01-0.09327178j, 4.06575815e-19-0.09369404j], requires_grad=True)"
      ]
     },
     "execution_count": 10,
     "metadata": {},
     "output_type": "execute_result"
    }
   ],
   "source": [
    "my_circuit(0.1)[:2]"
   ]
  },
  {
   "cell_type": "code",
   "execution_count": 11,
   "metadata": {},
   "outputs": [
    {
     "name": "stderr",
     "output_type": "stream",
     "text": [
      "/var/folders/0h/11cl6yyx6416byc76nf38wk82045kc/T/ipykernel_21636/3538960965.py:2: UserWarning: Matplotlib is currently using module://matplotlib_inline.backend_inline, which is a non-GUI backend, so cannot show the figure.\n",
      "  fig.show()\n"
     ]
    },
    {
     "data": {
      "image/png": "[encoded data removed]",
      "text/plain": [
       "<Figure size 900x400 with 1 Axes>"
      ]
     },
     "metadata": {},
     "output_type": "display_data"
    }
   ],
   "source": [
    "fig, ax = qml.draw_mpl(my_circuit)(0.1)\n",
    "fig.show()"
   ]
  },
  {
   "cell_type": "code",
   "execution_count": 12,
   "metadata": {},
   "outputs": [],
   "source": [
    "def error_XandZ(alpha, beta, time):\n",
    "    \"\"\"Difference between the exact and Trotterized result.\n",
    "    \n",
    "    Args:\n",
    "        alpha (float): The coefficient of Z in the Hamiltonian.\n",
    "        beta (float): The coefficient of X in the Hamiltonian.\n",
    "        time (float): The time we evolve the state for.\n",
    "        n (int): The number of steps in our Trotterization.\n",
    "        \n",
    "    Returns: \n",
    "        float: The distance between the exact and Trotterized result.\n",
    "    \"\"\"\n",
    "    unnormed = my_circuit(time)[:2] # Unnormalized state of main qubit\n",
    "    normed = unnormed/np.sqrt(sum(np.conjugate(unnormed)*unnormed)) # Normalize!\n",
    "    \n",
    "    #diff = np.abs(my_circuit(time)[:2] - exact_result_XandZ(alpha, beta, time))\n",
    "    diff = np.abs(normed - exact_result_XandZ(alpha, beta, time))\n",
    "    return np.sqrt(sum(diff*diff))"
   ]
  },
  {
   "cell_type": "code",
   "execution_count": 13,
   "metadata": {},
   "outputs": [],
   "source": [
    "dev = qml.device(\"default.qubit\", wires=1)\n",
    "    \n",
    "@qml.qnode(dev)\n",
    "def trotter_XandZ(alpha, beta, time, n):\n",
    "    \"\"\"Trotterized circuit for evolving a qubit with H = alpha Z + beta X.\n",
    "    \n",
    "    Args:\n",
    "        alpha (float): The coefficient of Z in the Hamiltonian.\n",
    "        beta (float): The coefficient of X in the Hamiltonian.\n",
    "        time (float): The time we evolve the state for.\n",
    "        n (int): The number of steps in our Trotterization.\n",
    "        \n",
    "    Returns: \n",
    "        array[complex]: The state after applying the Trotterized circuit.\n",
    "    \"\"\"\n",
    "    t = time\n",
    "    for _ in range(n):\n",
    "\t    qml.PauliRot(2 * t/n * alpha, \"Z\",wires=0)\n",
    "\t    qml.PauliRot(2 * t/n * beta, \"X\",wires=0)\n",
    "\n",
    "    return qml.state()"
   ]
  },
  {
   "cell_type": "code",
   "execution_count": 14,
   "metadata": {},
   "outputs": [
    {
     "data": {
      "text/plain": [
       "tensor([ 0.99003329-0.09933467j, -0.00996671-0.09933467j], requires_grad=True)"
      ]
     },
     "execution_count": 14,
     "metadata": {},
     "output_type": "execute_result"
    }
   ],
   "source": [
    "trotter_XandZ(1, 1, 0.1, 1)"
   ]
  },
  {
   "cell_type": "code",
   "execution_count": 15,
   "metadata": {},
   "outputs": [],
   "source": [
    "@qml.qnode(dev)\n",
    "def trotter_2_XandZ(alpha, beta, time, n):\n",
    "    \"\"\"Second-order Trotter circuit for the Hamiltonian H = alpha Z +  beta X.\n",
    "    \n",
    "    Args:\n",
    "        alpha (float): The coefficient of Z in the Hamiltonian.\n",
    "        beta (float): The coefficient of X in the Hamiltonian.\n",
    "        time (float): The time we evolve the state for.\n",
    "        n (int): The number of steps in our Trotterization.\n",
    "        \n",
    "    Returns: \n",
    "        array[complex]: The state after applying the second-order circuit.\n",
    "    \"\"\"\n",
    "    t = time\n",
    "    for _ in range(n):\n",
    "\t    qml.PauliRot(2 * t/(2*n) * alpha, \"Z\", wires=0)\n",
    "\t    qml.PauliRot(2 * t/(2*n) * beta, \"X\", wires=0)\n",
    "\t    qml.PauliRot(2 * t/(2*n) * beta, \"X\", wires=0)\n",
    "\t    qml.PauliRot(2 * t/(2*n) * alpha, \"Z\", wires=0)\n",
    "\n",
    "    return qml.state()\n",
    "\n",
    "def trotter_2_error_XandZ(alpha, beta, time, n):\n",
    "    \"\"\"Difference between the exact and second-order Trotter result.\n",
    "    \n",
    "    Args:\n",
    "        alpha (float): The coefficient of Z in the Hamiltonian.\n",
    "        beta (float): The coefficient of X in the Hamiltonian.\n",
    "        time (float): The time we evolve the state for.\n",
    "        n (int): The number of steps in our Trotterization.\n",
    "        \n",
    "    Returns: \n",
    "        float: The distance between the exact and second-order result.\n",
    "    \"\"\"\n",
    "    diff = np.abs(trotter_2_XandZ(alpha, beta, time, n) - exact_result_XandZ(alpha, beta, time))\n",
    "    return np.sqrt(sum(diff*diff))"
   ]
  },
  {
   "cell_type": "code",
   "execution_count": 48,
   "metadata": {},
   "outputs": [],
   "source": [
    "@qml.qnode(dev)\n",
    "def trotter_3_XandZ(alpha, beta, time, n):\n",
    "    \"\"\"Third-order Trotter circuit for the Hamiltonian H = alpha Z + beta X.\n",
    "\n",
    "    Args:\n",
    "        alpha (float): The coefficient of Z in the Hamiltonian.\n",
    "        beta (float): The coefficient of X in the Hamiltonian.\n",
    "        time (float): The time we evolve the state for.\n",
    "        n (int): The number of steps in our Trotterization.\n",
    "\n",
    "    Returns:\n",
    "        array[complex]: The state after applying the third-order circuit.\n",
    "    \"\"\"\n",
    "    # Coefficients for the third-order Trotter-Suzuki decomposition\n",
    "    a1 = 1.3512071919596578\n",
    "    a2 = -1.7024143839193153\n",
    "    a3 = 1.3512071919596578\n",
    "\n",
    "    b1 = 0.5\n",
    "    b2 = 0.5\n",
    "\n",
    "    t = time\n",
    "\n",
    "    for _ in range(n):\n",
    "        qml.PauliRot(2 * t / n * a1 * alpha, \"Z\", wires=0)\n",
    "        qml.PauliRot(2 * t / n * b1 * beta, \"X\", wires=0)\n",
    "        qml.PauliRot(2 * t / n * a2 * alpha, \"Z\", wires=0)\n",
    "        qml.PauliRot(2 * t / n * b2 * beta, \"X\", wires=0)\n",
    "        qml.PauliRot(2 * t / n * a3 * alpha, \"Z\", wires=0)\n",
    "\n",
    "    return qml.state()\n",
    "\n",
    "def trotter_3_error_XandZ(alpha, beta, time, n):\n",
    "    \"\"\"Difference between the exact and second-order Trotter result.\n",
    "    \n",
    "    Args:\n",
    "        alpha (float): The coefficient of Z in the Hamiltonian.\n",
    "        beta (float): The coefficient of X in the Hamiltonian.\n",
    "        time (float): The time we evolve the state for.\n",
    "        n (int): The number of steps in our Trotterization.\n",
    "        \n",
    "    Returns: \n",
    "        float: The distance between the exact and second-order result.\n",
    "    \"\"\"\n",
    "    diff = np.abs(trotter_3_XandZ(alpha, beta, time, n) - exact_result_XandZ(alpha, beta, time))\n",
    "    return np.sqrt(sum(diff*diff))"
   ]
  },
  {
   "cell_type": "code",
   "execution_count": 49,
   "metadata": {},
   "outputs": [],
   "source": [
    "def trotter_error_XandZ(alpha, beta, time, n):\n",
    "    \"\"\"Difference between the exact and Trotterized result.\n",
    "    \n",
    "    Args:\n",
    "        alpha (float): The coefficient of Z in the Hamiltonian.\n",
    "        beta (float): The coefficient of X in the Hamiltonian.\n",
    "        time (float): The time we evolve the state for.\n",
    "        n (int): The number of steps in our Trotterization.\n",
    "        \n",
    "    Returns: \n",
    "        float: The distance between the exact and Trotterized result.\n",
    "    \"\"\"\n",
    "    diff = np.abs(trotter_XandZ(alpha, beta, time, n) - exact_result_XandZ(alpha, beta, time))\n",
    "    return np.sqrt(sum(diff*diff))"
   ]
  },
  {
   "cell_type": "code",
   "execution_count": 17,
   "metadata": {},
   "outputs": [],
   "source": [
    "def truncation_XandZ(alpha, beta, time, K_bits):\n",
    "    \"\"\"\n",
    "    Generates unitaries and coefficients for the truncated X and Z evolution.\n",
    "    \n",
    "    Args:\n",
    "        alpha (float): The coefficient of Z in the Hamiltonian.\n",
    "        beta (float): The coefficient of X in the Hamiltonian.\n",
    "        time (float): The time we evolve the state for.\n",
    "        K_bits (int): The index of the truncation order, K = 2^K_bits.\n",
    "        \n",
    "    Returns: \n",
    "        [array[complex], array[array(complex)]]: Coefficients and unitaries.\n",
    "    \"\"\"\n",
    "    root = np.sqrt(alpha**2 + beta**2)\n",
    "    coeff_list = [0]*2**K_bits\n",
    "    U_list = [0]*2**K_bits\n",
    "    V = (alpha*qml.PauliZ(wires=0).compute_matrix() + beta*qml.PauliX(wires=0).compute_matrix())/root\n",
    "\n",
    "    for k in range(2**(K_bits-1)):\n",
    "        \n",
    "        coeff_list[2*k] = ((time * np.sqrt(alpha**2 + beta**2))**(2*k))/(fact(2*k)) # MODIFY THIS\n",
    "        coeff_list[2*k + 1] = ((time * np.sqrt(alpha**2 + beta**2))**(2*k + 1)) / (fact(2 * k +1)) # MODIFY THIS\n",
    "        U_list[2*k] = np.eye(2) * (-1)**k \n",
    "        U_list[2*k + 1] = (-1)**k * (-1j) * V \n",
    "\n",
    "    return [coeff_list, U_list]\n"
   ]
  },
  {
   "cell_type": "code",
   "execution_count": 39,
   "metadata": {},
   "outputs": [],
   "source": [
    "def LCU_XandZ(alpha, beta, time, K_bits):\n",
    "    \"\"\"\n",
    "    LCU circuit for simulating the Hamiltonian H = alpha Z + beta X.\n",
    "    \n",
    "    Args:\n",
    "        alpha (float): The coefficient of Z in the Hamiltonian.\n",
    "        beta (float): The coefficient of X in the Hamiltonian.\n",
    "        time (float): The time we evolve the state for.\n",
    "        K_bits (int): The index of the truncation order, K = 2^K_bits.\n",
    "        \n",
    "    Returns: \n",
    "        array[complex]: The state after applying the LCU circuit.\n",
    "    \"\"\"\n",
    "    aux = range(K_bits) # The auxiliary qubits\n",
    "    main = range(K_bits, K_bits + 1) # The main system\n",
    "    dev2 = qml.device(\"default.qubit\", wires=K_bits + 1, shots=None)\n",
    "    [coeff_list, U_list] = truncation_XandZ(alpha, beta, time, K_bits)\n",
    "    \n",
    "    @qml.qnode(dev2)\n",
    "    def LCU_circuit():\n",
    "        print(PREPARE(coeff_list))\n",
    "        qml.QubitUnitary(PREPARE(coeff_list),wires=aux)\n",
    "        SELECT(U_list)\n",
    "        qml.QubitUnitary(PREPARE(coeff_list).conj().T, wires=aux)\n",
    "        #TEST: Apply twice!\n",
    "        #qml.QubitUnitary(PREPARE(coeff_list),wires=aux)\n",
    "        #SELECT(U_list)\n",
    "        #qml.QubitUnitary(PREPARE(coeff_list).conj().T, wires=aux)\n",
    "\n",
    "        return qml.state()\n",
    "    \n",
    "    #fig, ax = qml.draw_mpl(LCU_circuit)()\n",
    "    #fig.show()\n",
    "\n",
    "    #unnormed = LCU_circuit()[:2] # Unnormalized state of main qubit\n",
    "    #normed = unnormed/np.sqrt(sum(np.conjugate(unnormed)*unnormed)) # Normalize!\n",
    "    \n",
    "    return LCU_circuit()[:2]#normed\n"
   ]
  },
  {
   "cell_type": "code",
   "execution_count": 40,
   "metadata": {},
   "outputs": [],
   "source": [
    "def LCU_error_XandZ(alpha, beta, time, K_bits):\n",
    "    \"\"\"\n",
    "    Difference between the exact and LCU simulation result.\n",
    "    \n",
    "    Args:\n",
    "        alpha (float): The coefficient of Z in the Hamiltonian.\n",
    "        beta (float): The coefficient of X in the Hamiltonian.\n",
    "        time (float): The time we evolve the state for.\n",
    "        K_bits (int): The index of the truncation order, K = 2^K_bits.\n",
    "        \n",
    "    Returns: \n",
    "        float: The distance between the exact and LCU result.\n",
    "    \"\"\"\n",
    "\n",
    "    diff = np.abs(LCU_XandZ(alpha, beta, time, K_bits) - exact_result_XandZ(alpha, beta,time)) \n",
    "    #diff = np.abs(LCU_XandZ(alpha, beta, time/2., K_bits) - exact_result_XandZ(alpha, beta,time)) \n",
    "\n",
    "    return np.sqrt(sum(diff*diff))"
   ]
  },
  {
   "cell_type": "code",
   "execution_count": 41,
   "metadata": {},
   "outputs": [
    {
     "name": "stdout",
     "output_type": "stream",
     "text": [
      "[[ 0.99868412  0.04948452  0.01315867  0.00285699]\n",
      " [ 0.04948452 -0.86089592 -0.49483976 -0.10743888]\n",
      " [ 0.01315867 -0.49483976  0.86841479 -0.02856959]\n",
      " [ 0.00285699 -0.10743888 -0.02856959  0.99379701]]\n"
     ]
    },
    {
     "data": {
      "text/plain": [
       "tensor(0.13869585, requires_grad=True)"
      ]
     },
     "execution_count": 41,
     "metadata": {},
     "output_type": "execute_result"
    }
   ],
   "source": [
    "LCU_error_XandZ(1,1,0.1,2)"
   ]
  },
  {
   "cell_type": "code",
   "execution_count": 51,
   "metadata": {},
   "outputs": [
    {
     "name": "stderr",
     "output_type": "stream",
     "text": [
      "/var/folders/0h/11cl6yyx6416byc76nf38wk82045kc/T/ipykernel_21636/3827284791.py:21: RuntimeWarning: invalid value encountered in divide\n",
      "  return householder((zero_vec - alpha_list) / np.linalg.norm(zero_vec -alpha_list))\n"
     ]
    },
    {
     "name": "stdout",
     "output_type": "stream",
     "text": [
      "[[nan nan nan nan]\n",
      " [nan nan nan nan]\n",
      " [nan nan nan nan]\n",
      " [nan nan nan nan]]\n",
      "[[ 0.99868412  0.04948452  0.01315867  0.00285699]\n",
      " [ 0.04948452 -0.86089592 -0.49483976 -0.10743888]\n",
      " [ 0.01315867 -0.49483976  0.86841479 -0.02856959]\n",
      " [ 0.00285699 -0.10743888 -0.02856959  0.99379701]]\n",
      "[[ 0.99024694  0.12965192  0.04875694  0.01497091]\n",
      " [ 0.12965192 -0.72352359 -0.64814881 -0.19901536]\n",
      " [ 0.04875694 -0.64814881  0.75625696 -0.07484178]\n",
      " [ 0.01497091 -0.19901536 -0.07484178  0.97701969]]\n",
      "[[ 0.96967558  0.21928542  0.10099802  0.03798135]\n",
      " [ 0.21928542 -0.58572158 -0.73034837 -0.27465503]\n",
      " [ 0.10099802 -0.73034837  0.66361765 -0.12650005]\n",
      " [ 0.03798135 -0.27465503 -0.12650005  0.95242835]]\n",
      "[[ 0.93417015  0.30869311  0.16417213  0.07128962]\n",
      " [ 0.30869311 -0.4475414  -0.76984535 -0.33429537]\n",
      " [ 0.16417213 -0.76984535  0.59057346 -0.17778817]\n",
      " [ 0.07128962 -0.33429537 -0.17778817  0.92279779]]\n",
      "[[ 0.88288672  0.3917454   0.23293321  0.11308716]\n",
      " [ 0.3917454  -0.31039329 -0.77916451 -0.37827796]\n",
      " [ 0.23293321 -0.77916451  0.53670601 -0.22492542]\n",
      " [ 0.11308716 -0.37827796 -0.22492542  0.89080056]]\n",
      "[[ 0.81651831  0.46457461  0.30260326  0.16093337]\n",
      " [ 0.46457461 -0.17630032 -0.76618975 -0.40748238]\n",
      " [ 0.30260326 -0.76618975  0.50093804 -0.26541592]\n",
      " [ 0.16093337 -0.40748238 -0.26541592  0.85884396]]\n",
      "[[ 0.73682777  0.52500785  0.36936634  0.2121794 ]\n",
      " [ 0.52500785 -0.04734928 -0.73685674 -0.42328117]\n",
      " [ 0.36936634 -0.73685674  0.48158856 -0.29779711]\n",
      " [ 0.2121794  -0.42328117 -0.29779711  0.82893295]]\n",
      "[[ 0.64623413  0.57215474  0.43032938  0.26426696]\n",
      " [ 0.57215474  0.07463925 -0.6959829  -0.42740582]\n",
      " [ 0.43032938 -0.6959829   0.47653691 -0.32146073]\n",
      " [ 0.26426696 -0.42740582 -0.32146073  0.80258971]]\n",
      "[[ 0.54749109  0.60606761  0.48348703  0.31492197]\n",
      " [ 0.60606761  0.18826361 -0.64755815 -0.4217906 ]\n",
      " [ 0.48348703 -0.64755815  0.48341412 -0.33648108]\n",
      " [ 0.31492197 -0.4217906  -0.33648108  0.78083117]]\n",
      "[[ 0.44344742  0.62746811  0.52763568  0.36226888]\n",
      " [ 0.62746811  0.29258036 -0.59486664 -0.40842892]\n",
      " [ 0.52763568 -0.59486664  0.49977877 -0.34344642]\n",
      " [ 0.36226888 -0.40842892 -0.34344642  0.76419345]]\n",
      "[[ 0.3368638   0.63753217  0.56226487  0.40488731]\n",
      " [ 0.63753217  0.38708328 -0.54055553 -0.3892544 ]\n",
      " [ 0.56226487 -0.54055553  0.52326267 -0.34329887]\n",
      " [ 0.40488731 -0.3892544  -0.34329887  0.75279025]]\n",
      "[[ 0.23026922  0.63771813  0.5874378   0.44182408]\n",
      " [ 0.63771813  0.4716537  -0.48668929 -0.36604905]\n",
      " [ 0.5874378  -0.48668929  0.5516833  -0.33718823]\n",
      " [ 0.44182408 -0.36604905 -0.33718823  0.74639378]]\n",
      "[[ 0.12585255  0.62962529  0.60366548  0.47256863]\n",
      " [ 0.62962529  0.54649755 -0.43480429 -0.34037869]\n",
      " [ 0.60366548 -0.43480429  0.58312294 -0.32634468]\n",
      " [ 0.47256863 -0.34037869 -0.32634468  0.74452695]]\n",
      "[[ 0.02539271  0.61487682  0.61177911  0.49699902]\n",
      " [ 0.61487682  0.61207605 -0.38596961 -0.3135552 ]\n",
      " [ 0.61177911 -0.38596961  0.61597488 -0.31197552]\n",
      " [ 0.49699902 -0.3135552  -0.31197552  0.74655635]]\n",
      "[[-0.06977001  0.59502636  0.61280788  0.51530795]\n",
      " [ 0.59502636  0.66903505 -0.34085536 -0.28662405]\n",
      " [ 0.61280788 -0.34085536  0.64895866 -0.2951894 ]\n",
      " [ 0.51530795 -0.28662405 -0.2951894   0.75177629]]\n",
      "[[-0.15872373  0.57148998  0.60787057  0.52791983]\n",
      " [ 0.57148998  0.71813747 -0.29980567 -0.26037345]\n",
      " [ 0.60787057 -0.29980567  0.68110895 -0.27694861]\n",
      " [ 0.52791983 -0.26037345 -0.27694861  0.75947731]]\n",
      "[[-0.24094387  0.54550369  0.59808741  0.5354094 ]\n",
      " [ 0.54550369  0.76020327 -0.26291188 -0.2353594 ]\n",
      " [ 0.59808741 -0.26291188  0.71174478 -0.25804682]\n",
      " [ 0.5354094  -0.2353594  -0.25804682  0.76899582]]\n",
      "[[-0.31623236  0.51810435  0.58451544  0.53842983]\n",
      " [ 0.51810435  0.79606024 -0.23008095 -0.21194042]\n",
      " [ 0.58451544 -0.23008095  0.74042706 -0.23910714]\n",
      " [ 0.53842983 -0.21194042 -0.23910714  0.77974506]]\n",
      "[[-0.38464839  0.49012951  0.56810702  0.53765517]\n",
      " [ 0.49012951  0.8265069  -0.20109511 -0.19031595]\n",
      " [ 0.56810702 -0.20109511  0.76691152 -0.2205944 ]\n",
      " [ 0.53765517 -0.19031595 -0.2205944   0.79122997]]\n",
      "[[-0.44644011  0.46223092  0.5496883   0.5337383 ]\n",
      " [ 0.46223092  0.8522874  -0.17566087 -0.17056382]\n",
      " [ 0.5496883  -0.17566087  0.79110284 -0.2028357 ]\n",
      " [ 0.5337383  -0.17056382 -0.2028357   0.80304987]]\n",
      "[[-0.5019833   0.43489601  0.52995326  0.52728339]\n",
      " [ 0.43489601  0.87407681 -0.15344682 -0.15267376]\n",
      " [ 0.52995326 -0.15344682  0.8130136  -0.18604438]\n",
      " [ 0.52728339 -0.15267376 -0.18604438  0.8148929 ]]\n",
      "[[-0.55173046  0.4084731   0.50946846  0.51883052]\n",
      " [ 0.4084731   0.89247471 -0.13411102 -0.13657547]\n",
      " [ 0.50946846 -0.13411102  0.8327299  -0.17034388]\n",
      " [ 0.51883052 -0.13657547 -0.17034388  0.82652586]]\n",
      "[[-0.59617098  0.38319699  0.48868444  0.50884944]\n",
      " [ 0.38319699  0.90800489 -0.11731977 -0.12216083]\n",
      " [ 0.48868444 -0.11731977  0.85038415 -0.15578958]\n",
      " [ 0.50884944 -0.12216083 -0.15578958  0.83778195]]\n",
      "[[-0.63580186  0.35921265  0.46795032  0.49773965]\n",
      " [ 0.35921265  0.92111897 -0.10275919 -0.10930076]\n",
      " [ 0.46795032 -0.10275919  0.86613446 -0.14238731]\n",
      " [ 0.49773965 -0.10930076 -0.14238731  0.84854843]]\n",
      "[[-0.6711074   0.33659612  0.44752944  0.48583465]\n",
      " [ 0.33659612  0.93220247 -0.09014183 -0.0978573 ]\n",
      " [ 0.44752944 -0.09014183  0.88014977 -0.13010852]\n",
      " [ 0.48583465 -0.0978573  -0.13010852  0.85875515]]\n",
      "[[-0.7025461   0.315372    0.42761439  0.47340829]\n",
      " [ 0.315372    0.9415819  -0.07920937 -0.08769203]\n",
      " [ 0.42761439 -0.07920937  0.89259964 -0.11890204]\n",
      " [ 0.47340829 -0.08769203 -0.11890204  0.86836456]]\n",
      "[[-0.73054311  0.29552773  0.40834065  0.46068214]\n",
      " [ 0.29552773  0.94953224 -0.06973301 -0.07867146]\n",
      " [ 0.40834065 -0.06973301  0.90364754 -0.10870301]\n",
      " [ 0.46068214 -0.07867146 -0.10870301  0.87736334]]\n",
      "[[-0.75548661  0.2770248   0.38979851  0.44783296]\n",
      " [ 0.2770248   0.95628406 -0.06151221 -0.07067034]\n",
      " [ 0.38979851 -0.06151221  0.91344686 -0.09943945]\n",
      " [ 0.44783296 -0.07067034 -0.09943945  0.88575569]]\n",
      "[[-0.77772695  0.2598075   0.37204305  0.4349998 ]\n",
      " [ 0.2598075   0.9620302  -0.05437257 -0.06357344]\n",
      " [ 0.37204305 -0.05437257  0.92213876 -0.09103684]\n",
      " [ 0.4349998  -0.06357344 -0.09103684  0.89355799]]\n",
      "[[-0.79757761  0.24380945  0.35510245  0.42229036]\n",
      " [ 0.24380945  0.96693158 -0.04816334 -0.05727618]\n",
      " [ 0.35510245 -0.04816334  0.92985129 -0.08342134]\n",
      " [ 0.42229036 -0.05727618 -0.08342134  0.90079474]]\n",
      "[[-0.81531734  0.22895846  0.33898466  0.40978661]\n",
      " [ 0.22895846  0.97112242 -0.04275473 -0.05168469]\n",
      " [ 0.33898466 -0.04275473  0.93669944 -0.07652181]\n",
      " [ 0.40978661 -0.05168469 -0.07652181  0.90749548]]\n",
      "[[-0.83119273  0.21518005  0.3236827   0.39754963]\n",
      " [ 0.21518005  0.97471459 -0.03803535 -0.04671532]\n",
      " [ 0.3236827  -0.03803535  0.94278566 -0.07027111]\n",
      " [ 0.39754963 -0.04671532 -0.07027111  0.91369248]]\n",
      "[[-0.84542125  0.20239992  0.30917888  0.38562364]\n",
      " [ 0.20239992  0.97780142 -0.03390975 -0.04229397]\n",
      " [ 0.30917888 -0.03390975  0.94820067 -0.06460676]\n",
      " [ 0.38562364 -0.04229397 -0.06460676  0.91941916]]\n",
      "[[-0.85819422  0.19054568  0.29544801  0.37403944]\n",
      " [ 0.19054568  0.98046078 -0.03029626 -0.0383553 ]\n",
      " [ 0.29544801 -0.03029626  0.95302454 -0.05947129]\n",
      " [ 0.37403944 -0.0383553  -0.05947129  0.92470889]]\n",
      "[[-0.86967963  0.17954791  0.28245995  0.36281712]\n",
      " [ 0.17954791  0.98275777 -0.02712502 -0.03484183]\n",
      " [ 0.28245995 -0.02712502  0.95732765 -0.05481223]\n",
      " [ 0.36281712 -0.03484183 -0.05481223  0.92959421]]\n",
      "[[-0.88002494  0.16934087  0.27018146  0.3519684 ]\n",
      " [ 0.16934087  0.98474683 -0.02433625 -0.03170311]\n",
      " [ 0.27018146 -0.02433625  0.96117178 -0.05058196]\n",
      " [ 0.3519684  -0.03170311 -0.05058196  0.93410632]]\n",
      "[[-0.88935947  0.15986288  0.25857766  0.34149845]\n",
      " [ 0.15986288  0.98647365 -0.02187883 -0.02889494]\n",
      " [ 0.25857766 -0.02187883  0.96461107 -0.04673746]\n",
      " [ 0.34149845 -0.02889494 -0.04673746  0.93827475]]\n",
      "[[-0.89779667  0.15105644  0.24761306  0.33140741]\n",
      " [ 0.15105644  0.98797656 -0.01970893 -0.0263786 ]\n",
      " [ 0.24761306 -0.01970893  0.96769294 -0.04324004]\n",
      " [ 0.33140741 -0.0263786  -0.04324004  0.94212717]]\n",
      "[[-0.90543611  0.14286823  0.23725233  0.32169155]\n",
      " [ 0.14286823  0.98928784 -0.01778901 -0.0241202 ]\n",
      " [ 0.23725233 -0.01778901  0.97045891 -0.04005491]\n",
      " [ 0.32169155 -0.0241202  -0.04005491  0.94568936]]\n",
      "[[-0.91236522  0.13524904  0.22746087  0.31234429]\n",
      " [ 0.13524904  0.99043472 -0.01608681 -0.02209006]\n",
      " [ 0.22746087 -0.01608681  0.97294531 -0.03715091]\n",
      " [ 0.31234429 -0.02209006 -0.03715091  0.94898519]]\n"
     ]
    },
    {
     "data": {
      "image/png": "[encoded data removed]",
      "text/plain": [
       "<Figure size 800x500 with 1 Axes>"
      ]
     },
     "metadata": {},
     "output_type": "display_data"
    }
   ],
   "source": [
    "import numpy as np\n",
    "import matplotlib.pyplot as plt\n",
    "\n",
    "# Define your parameters\n",
    "alpha = 1.  # Example value for alpha\n",
    "beta = 1.   # Example value for beta\n",
    "\n",
    "# Define time values from 0 to 1 in intervals of 0.1\n",
    "time_values = np.arange(0, 4.1, 0.1)\n",
    "\n",
    "# Compute error for each time value\n",
    "errors = [error_XandZ(alpha, beta, time) for time in time_values]\n",
    "error_trotter1 = [trotter_error_XandZ(alpha, beta, time, 1) for time in time_values]\n",
    "error_trotter1_2 = [trotter_error_XandZ(alpha, beta, time, 2) for time in time_values]\n",
    "error_trotter1_3 = [trotter_error_XandZ(alpha, beta, time, 3) for time in time_values]\n",
    "error_trotter2 = [trotter_2_error_XandZ(alpha, beta, time, 1) for time in time_values]\n",
    "error_trotter2_2 = [trotter_2_error_XandZ(alpha, beta, time, 2) for time in time_values]\n",
    "error_LCU = [LCU_error_XandZ(alpha, beta, time, 2) for time in time_values]\n",
    "error_trotter3 = [trotter_3_error_XandZ(alpha, beta, time, 1) for time in time_values]\n",
    "\n",
    "\n",
    "# Plotting\n",
    "plt.figure(figsize=(8, 5))\n",
    "plt.plot(time_values, errors, marker='o', linestyle='-', color='b', label = 'JOA')\n",
    "plt.plot(time_values, error_trotter1, marker='o', linestyle='-', color='r', label='Trotter 1st Order - n=1')\n",
    "#plt.plot(time_values, error_trotter1_2, marker='o', linestyle='--', color='black', label='Trotter 1st Order - n=2')\n",
    "#plt.plot(time_values, error_trotter1_3, marker='o', linestyle='--', color='orange', label='Trotter 1st Order - n=3')\n",
    "plt.plot(time_values, error_trotter2, marker='o', linestyle='-', color='cyan', label='Trotter 2nd Order - n=1')\n",
    "plt.plot(time_values, error_trotter3, marker='o', linestyle='-', color='gray', label='Trotter 3rd Order - n=1')\n",
    "#plt.plot(time_values, error_LCU, marker='o', linestyle='-', color='g', label= 'LCU')\n",
    "plt.xlabel('Time')\n",
    "plt.ylabel('Error')\n",
    "#plt.yscale('log')\n",
    "plt.title('Error as a function of Time')\n",
    "plt.grid(True)\n",
    "plt.legend()\n",
    "plt.show()\n"
   ]
  },
  {
   "cell_type": "code",
   "execution_count": null,
   "metadata": {},
   "outputs": [],
   "source": []
  },
  {
   "cell_type": "code",
   "execution_count": null,
   "metadata": {},
   "outputs": [],
   "source": []
  }
 ],
 "metadata": {
  "kernelspec": {
   "display_name": "Python 3",
   "language": "python",
   "name": "python3"
  },
  "language_info": {
   "codemirror_mode": {
    "name": "ipython",
    "version": 3
   },
   "file_extension": ".py",
   "mimetype": "text/x-python",
   "name": "python",
   "nbconvert_exporter": "python",
   "pygments_lexer": "ipython3",
   "version": "3.9.6"
  }
 },
 "nbformat": 4,
 "nbformat_minor": 2
}
